{
 "cells": [
  {
   "cell_type": "markdown",
   "id": "fe69f94a",
   "metadata": {},
   "source": [
    "## Step0 : Load packages and Libraries "
   ]
  },
  {
   "cell_type": "code",
   "execution_count": 76,
   "id": "58e589d7",
   "metadata": {},
   "outputs": [],
   "source": [
    "import pandas as pd \n",
    "import numpy as np \n",
    "import seaborn as sns\n",
    "import matplotlib.pyplot as plt\n",
    "import os\n",
    "from sklearn.metrics.pairwise import cosine_similarity\n",
    "from sklearn.feature_extraction.text import TfidfVectorizer\n",
    "from scipy.sparse import coo_matrix\n",
    "\n"
   ]
  },
  {
   "cell_type": "markdown",
   "id": "7310a909",
   "metadata": {},
   "source": [
    "## Step1: Data Loading "
   ]
  },
  {
   "cell_type": "code",
   "execution_count": 77,
   "id": "d917f272",
   "metadata": {},
   "outputs": [
    {
     "data": {
      "text/html": [
       "<div>\n",
       "<style scoped>\n",
       "    .dataframe tbody tr th:only-of-type {\n",
       "        vertical-align: middle;\n",
       "    }\n",
       "\n",
       "    .dataframe tbody tr th {\n",
       "        vertical-align: top;\n",
       "    }\n",
       "\n",
       "    .dataframe thead th {\n",
       "        text-align: right;\n",
       "    }\n",
       "</style>\n",
       "<table border=\"1\" class=\"dataframe\">\n",
       "  <thead>\n",
       "    <tr style=\"text-align: right;\">\n",
       "      <th></th>\n",
       "      <th>Uniq Id</th>\n",
       "      <th>Crawl Timestamp</th>\n",
       "      <th>Dataset Origin</th>\n",
       "      <th>Product Id</th>\n",
       "      <th>Product Barcode</th>\n",
       "      <th>Product Company Type Source</th>\n",
       "      <th>Product Brand Source</th>\n",
       "      <th>Product Brand Normalised Source</th>\n",
       "      <th>Product Name Source</th>\n",
       "      <th>Match Rank</th>\n",
       "      <th>Match Score</th>\n",
       "      <th>Match Type</th>\n",
       "      <th>Retailer</th>\n",
       "      <th>Product Category</th>\n",
       "      <th>Product Brand</th>\n",
       "      <th>Product Name</th>\n",
       "      <th>Product Price</th>\n",
       "      <th>Sku</th>\n",
       "      <th>Upc</th>\n",
       "      <th>Product Url</th>\n",
       "      <th>Market</th>\n",
       "      <th>Product Description</th>\n",
       "      <th>Product Currency</th>\n",
       "      <th>Product Available Inventory</th>\n",
       "      <th>Product Image Url</th>\n",
       "      <th>Product Model Number</th>\n",
       "      <th>Product Tags</th>\n",
       "      <th>Product Contents</th>\n",
       "      <th>Product Rating</th>\n",
       "      <th>Product Reviews Count</th>\n",
       "      <th>Bsr</th>\n",
       "      <th>Joining Key</th>\n",
       "    </tr>\n",
       "  </thead>\n",
       "  <tbody>\n",
       "    <tr>\n",
       "      <th>0</th>\n",
       "      <td>1705736792d82aa2f2d3caf1c07c53f4</td>\n",
       "      <td>2020-09-24 03:21:12 +0000</td>\n",
       "      <td>NaN</td>\n",
       "      <td>2e17bf4acecdece67fc00f07ad62c910</td>\n",
       "      <td>NaN</td>\n",
       "      <td>Competitor</td>\n",
       "      <td>NaN</td>\n",
       "      <td>NaN</td>\n",
       "      <td>NaN</td>\n",
       "      <td>NaN</td>\n",
       "      <td>NaN</td>\n",
       "      <td>NaN</td>\n",
       "      <td>walmart.com</td>\n",
       "      <td>Premium Beauty &gt; Premium Makeup &gt; Premium Nail...</td>\n",
       "      <td>OPI</td>\n",
       "      <td>OPI Infinite Shine, Nail Lacquer Nail Polish, ...</td>\n",
       "      <td>8.95</td>\n",
       "      <td>NaN</td>\n",
       "      <td>NaN</td>\n",
       "      <td>https://www.walmart.com/ip/OPI-Infinite-Shine-...</td>\n",
       "      <td>US</td>\n",
       "      <td>NaN</td>\n",
       "      <td>USD</td>\n",
       "      <td>111111111</td>\n",
       "      <td>https://i5.walmartimages.com/asr/0e1f4c51-c1a4...</td>\n",
       "      <td>NaN</td>\n",
       "      <td>OPI Infinite Shine, Nail Lacquer Nail Polish, ...</td>\n",
       "      <td>NaN</td>\n",
       "      <td>NaN</td>\n",
       "      <td>NaN</td>\n",
       "      <td>NaN</td>\n",
       "      <td>81350af1be98d3753cf964709f0c766a</td>\n",
       "    </tr>\n",
       "  </tbody>\n",
       "</table>\n",
       "</div>"
      ],
      "text/plain": [
       "                            Uniq Id  ...                       Joining Key\n",
       "0  1705736792d82aa2f2d3caf1c07c53f4  ...  81350af1be98d3753cf964709f0c766a\n",
       "\n",
       "[1 rows x 32 columns]"
      ]
     },
     "execution_count": 77,
     "metadata": {},
     "output_type": "execute_result"
    }
   ],
   "source": [
    "# Read Your dataset \n",
    "df = pd.read_csv('marketing_sample_for_walmart_com-walmart_com_product_review__20200701_20201231__5k_data.tsv', sep='\\t')\n",
    "df.head(1)"
   ]
  },
  {
   "cell_type": "code",
   "execution_count": 78,
   "id": "856afb9e",
   "metadata": {},
   "outputs": [
    {
     "data": {
      "text/html": [
       "<div>\n",
       "<style scoped>\n",
       "    .dataframe tbody tr th:only-of-type {\n",
       "        vertical-align: middle;\n",
       "    }\n",
       "\n",
       "    .dataframe tbody tr th {\n",
       "        vertical-align: top;\n",
       "    }\n",
       "\n",
       "    .dataframe thead th {\n",
       "        text-align: right;\n",
       "    }\n",
       "</style>\n",
       "<table border=\"1\" class=\"dataframe\">\n",
       "  <thead>\n",
       "    <tr style=\"text-align: right;\">\n",
       "      <th></th>\n",
       "      <th>Uniq Id</th>\n",
       "      <th>Product Id</th>\n",
       "      <th>Product Rating</th>\n",
       "      <th>Product Reviews Count</th>\n",
       "      <th>Product Category</th>\n",
       "      <th>Product Brand</th>\n",
       "      <th>Product Name</th>\n",
       "      <th>Product Image Url</th>\n",
       "      <th>Product Description</th>\n",
       "      <th>Product Tags</th>\n",
       "    </tr>\n",
       "  </thead>\n",
       "  <tbody>\n",
       "    <tr>\n",
       "      <th>0</th>\n",
       "      <td>1705736792d82aa2f2d3caf1c07c53f4</td>\n",
       "      <td>2e17bf4acecdece67fc00f07ad62c910</td>\n",
       "      <td>NaN</td>\n",
       "      <td>NaN</td>\n",
       "      <td>Premium Beauty &gt; Premium Makeup &gt; Premium Nail...</td>\n",
       "      <td>OPI</td>\n",
       "      <td>OPI Infinite Shine, Nail Lacquer Nail Polish, ...</td>\n",
       "      <td>https://i5.walmartimages.com/asr/0e1f4c51-c1a4...</td>\n",
       "      <td>NaN</td>\n",
       "      <td>OPI Infinite Shine, Nail Lacquer Nail Polish, ...</td>\n",
       "    </tr>\n",
       "    <tr>\n",
       "      <th>1</th>\n",
       "      <td>95a9fe6f4810fcfc7ff244fd06784f11</td>\n",
       "      <td>076e5854a62dd283c253d6bae415af1f</td>\n",
       "      <td>NaN</td>\n",
       "      <td>NaN</td>\n",
       "      <td>Beauty &gt; Hair Care &gt; Hair Color &gt; Auburn Hair ...</td>\n",
       "      <td>Nice'n Easy</td>\n",
       "      <td>Nice n Easy Permanent Color, 111 Natural Mediu...</td>\n",
       "      <td>https://i5.walmartimages.com/asr/9c8e42e4-13a5...</td>\n",
       "      <td>Pack of 3 Pack of 3 for the UPC: 381519000201 ...</td>\n",
       "      <td>Nice 'n Easy Permanent Color, 111 Natural Medi...</td>\n",
       "    </tr>\n",
       "    <tr>\n",
       "      <th>2</th>\n",
       "      <td>8d4d0330178d3ed181b15a4102b287f2</td>\n",
       "      <td>8a4fe5d9c7a6ed26cc44d785a454b124</td>\n",
       "      <td>4.5</td>\n",
       "      <td>29221.0</td>\n",
       "      <td>Beauty &gt; Hair Care &gt; Hair Color &gt; Permanent Ha...</td>\n",
       "      <td>Clairol</td>\n",
       "      <td>Clairol Nice N Easy Permanent Color 7/106A Nat...</td>\n",
       "      <td>https://i5.walmartimages.com/asr/e3a601c2-6a2b...</td>\n",
       "      <td>This Clairol Nice N Easy Permanent Color gives...</td>\n",
       "      <td>Clairol Nice 'N Easy Permanent Color 7/106A Na...</td>\n",
       "    </tr>\n",
       "    <tr>\n",
       "      <th>3</th>\n",
       "      <td>fddc4df45b35efd886794b261f730c51</td>\n",
       "      <td>03b5fb878a33eadff8b033419eab9669</td>\n",
       "      <td>NaN</td>\n",
       "      <td>NaN</td>\n",
       "      <td>Beauty &gt; Makeup &gt; Lip</td>\n",
       "      <td>Kokie Cosmetics</td>\n",
       "      <td>Kokie Professional Matte Lipstick, Hot Berry, ...</td>\n",
       "      <td>https://i5.walmartimages.com/asr/25b4b467-bc61...</td>\n",
       "      <td>Calling all matte lip lovers! Indulge in our r...</td>\n",
       "      <td>Kokie Professional Matte Lipstick, Hot Berry, ...</td>\n",
       "    </tr>\n",
       "    <tr>\n",
       "      <th>4</th>\n",
       "      <td>0990cf89a59ca6a0460349a3e4f51d42</td>\n",
       "      <td>ce3d761e57d6ccad80619297b5b1bcbc</td>\n",
       "      <td>NaN</td>\n",
       "      <td>131.0</td>\n",
       "      <td>Seasonal &gt; Stock Up Essentials &gt; Personal Care...</td>\n",
       "      <td>Gillette</td>\n",
       "      <td>Gillette TRAC II Plus Razor Blade Refills, Fit...</td>\n",
       "      <td>https://i5.walmartimages.com/asr/1a2ebb06-cd01...</td>\n",
       "      <td>In 1971, Gillette introduced the Trac II razor...</td>\n",
       "      <td>Gillette TRAC II Plus Razor Blade Refills, Fit...</td>\n",
       "    </tr>\n",
       "  </tbody>\n",
       "</table>\n",
       "</div>"
      ],
      "text/plain": [
       "                            Uniq Id  ...                                       Product Tags\n",
       "0  1705736792d82aa2f2d3caf1c07c53f4  ...  OPI Infinite Shine, Nail Lacquer Nail Polish, ...\n",
       "1  95a9fe6f4810fcfc7ff244fd06784f11  ...  Nice 'n Easy Permanent Color, 111 Natural Medi...\n",
       "2  8d4d0330178d3ed181b15a4102b287f2  ...  Clairol Nice 'N Easy Permanent Color 7/106A Na...\n",
       "3  fddc4df45b35efd886794b261f730c51  ...  Kokie Professional Matte Lipstick, Hot Berry, ...\n",
       "4  0990cf89a59ca6a0460349a3e4f51d42  ...  Gillette TRAC II Plus Razor Blade Refills, Fit...\n",
       "\n",
       "[5 rows x 10 columns]"
      ]
     },
     "execution_count": 78,
     "metadata": {},
     "output_type": "execute_result"
    }
   ],
   "source": [
    "train_data = df[['Uniq Id','Product Id','Product Rating','Product Reviews Count' , 'Product Category','Product Brand','Product Name','Product Image Url','Product Description','Product Tags' ]]\n",
    "train_data.head()"
   ]
  },
  {
   "cell_type": "code",
   "execution_count": 79,
   "id": "c296a346",
   "metadata": {},
   "outputs": [
    {
     "data": {
      "text/plain": [
       "(5000, 32)"
      ]
     },
     "execution_count": 79,
     "metadata": {},
     "output_type": "execute_result"
    }
   ],
   "source": [
    "df.shape"
   ]
  },
  {
   "cell_type": "code",
   "execution_count": 80,
   "id": "d4d9962b",
   "metadata": {},
   "outputs": [
    {
     "data": {
      "text/plain": [
       "Index(['Uniq Id', 'Crawl Timestamp', 'Dataset Origin', 'Product Id',\n",
       "       'Product Barcode', 'Product Company Type Source',\n",
       "       'Product Brand Source', 'Product Brand Normalised Source',\n",
       "       'Product Name Source', 'Match Rank', 'Match Score', 'Match Type',\n",
       "       'Retailer', 'Product Category', 'Product Brand', 'Product Name',\n",
       "       'Product Price', 'Sku', 'Upc', 'Product Url', 'Market',\n",
       "       'Product Description', 'Product Currency',\n",
       "       'Product Available Inventory', 'Product Image Url',\n",
       "       'Product Model Number', 'Product Tags', 'Product Contents',\n",
       "       'Product Rating', 'Product Reviews Count', 'Bsr', 'Joining Key'],\n",
       "      dtype='object')"
      ]
     },
     "execution_count": 80,
     "metadata": {},
     "output_type": "execute_result"
    }
   ],
   "source": [
    "df.columns"
   ]
  },
  {
   "cell_type": "markdown",
   "id": "641c7a2b",
   "metadata": {},
   "source": [
    "## Basic operation"
   ]
  },
  {
   "cell_type": "code",
   "execution_count": 81,
   "id": "692af723",
   "metadata": {},
   "outputs": [
    {
     "data": {
      "text/plain": [
       "0       OPI Infinite Shine, Nail Lacquer Nail Polish, ...\n",
       "1       Nice 'n Easy Permanent Color, 111 Natural Medi...\n",
       "2       Clairol Nice 'N Easy Permanent Color 7/106A Na...\n",
       "3       Kokie Professional Matte Lipstick, Hot Berry, ...\n",
       "4       Gillette TRAC II Plus Razor Blade Refills, Fit...\n",
       "                              ...                        \n",
       "4995    Garden Mint Room Spray (Double Strength), 4 ou...\n",
       "4996    Garnier Nutrisse Nourishing Hair Color Creme (...\n",
       "4997    Nail File Electric Drill, 6 in 1 Professional ...\n",
       "4998    Creed Love In Black Hair And Body Wash 6.8oz/2...\n",
       "4999                    Foundation, Wal-mart, Walmart.com\n",
       "Name: Product Tags, Length: 5000, dtype: object"
      ]
     },
     "execution_count": 81,
     "metadata": {},
     "output_type": "execute_result"
    }
   ],
   "source": [
    "df['Product Tags']"
   ]
  },
  {
   "cell_type": "code",
   "execution_count": 82,
   "id": "3e5efda4",
   "metadata": {},
   "outputs": [
    {
     "data": {
      "text/plain": [
       "Uniq Id                               0\n",
       "Crawl Timestamp                       0\n",
       "Dataset Origin                     5000\n",
       "Product Id                            0\n",
       "Product Barcode                    5000\n",
       "Product Company Type Source           0\n",
       "Product Brand Source               4861\n",
       "Product Brand Normalised Source    4861\n",
       "Product Name Source                4861\n",
       "Match Rank                         5000\n",
       "Match Score                        5000\n",
       "Match Type                         5000\n",
       "Retailer                              0\n",
       "Product Category                     10\n",
       "Product Brand                        13\n",
       "Product Name                          0\n",
       "Product Price                        42\n",
       "Sku                                5000\n",
       "Upc                                5000\n",
       "Product Url                           0\n",
       "Market                                0\n",
       "Product Description                1127\n",
       "Product Currency                      0\n",
       "Product Available Inventory           0\n",
       "Product Image Url                     0\n",
       "Product Model Number               5000\n",
       "Product Tags                          0\n",
       "Product Contents                   5000\n",
       "Product Rating                     2806\n",
       "Product Reviews Count              1654\n",
       "Bsr                                5000\n",
       "Joining Key                           0\n",
       "dtype: int64"
      ]
     },
     "execution_count": 82,
     "metadata": {},
     "output_type": "execute_result"
    }
   ],
   "source": [
    "df.isnull().sum()"
   ]
  },
  {
   "cell_type": "code",
   "execution_count": 83,
   "id": "1d18d67c",
   "metadata": {},
   "outputs": [
    {
     "data": {
      "text/plain": [
       "Uniq Id                     0\n",
       "Product Id                  0\n",
       "Product Rating           2806\n",
       "Product Reviews Count    1654\n",
       "Product Category           10\n",
       "Product Brand              13\n",
       "Product Name                0\n",
       "Product Image Url           0\n",
       "Product Description      1127\n",
       "Product Tags                0\n",
       "dtype: int64"
      ]
     },
     "execution_count": 83,
     "metadata": {},
     "output_type": "execute_result"
    }
   ],
   "source": [
    "train_data.isnull().sum()"
   ]
  },
  {
   "cell_type": "code",
   "execution_count": 84,
   "id": "10c40a39",
   "metadata": {},
   "outputs": [
    {
     "name": "stderr",
     "output_type": "stream",
     "text": [
      "C:\\Users\\hp\\AppData\\Local\\Temp\\ipykernel_20492\\2109049505.py:1: FutureWarning: A value is trying to be set on a copy of a DataFrame or Series through chained assignment using an inplace method.\n",
      "The behavior will change in pandas 3.0. This inplace method will never work because the intermediate object on which we are setting values always behaves as a copy.\n",
      "\n",
      "For example, when doing 'df[col].method(value, inplace=True)', try using 'df.method({col: value}, inplace=True)' or df[col] = df[col].method(value) instead, to perform the operation inplace on the original object.\n",
      "\n",
      "\n",
      "  train_data['Product Rating'].fillna(0, inplace=True)\n",
      "C:\\Users\\hp\\AppData\\Local\\Temp\\ipykernel_20492\\2109049505.py:1: SettingWithCopyWarning: \n",
      "A value is trying to be set on a copy of a slice from a DataFrame\n",
      "\n",
      "See the caveats in the documentation: https://pandas.pydata.org/pandas-docs/stable/user_guide/indexing.html#returning-a-view-versus-a-copy\n",
      "  train_data['Product Rating'].fillna(0, inplace=True)\n",
      "C:\\Users\\hp\\AppData\\Local\\Temp\\ipykernel_20492\\2109049505.py:2: FutureWarning: A value is trying to be set on a copy of a DataFrame or Series through chained assignment using an inplace method.\n",
      "The behavior will change in pandas 3.0. This inplace method will never work because the intermediate object on which we are setting values always behaves as a copy.\n",
      "\n",
      "For example, when doing 'df[col].method(value, inplace=True)', try using 'df.method({col: value}, inplace=True)' or df[col] = df[col].method(value) instead, to perform the operation inplace on the original object.\n",
      "\n",
      "\n",
      "  train_data['Product Reviews Count'].fillna(0, inplace=True)\n",
      "C:\\Users\\hp\\AppData\\Local\\Temp\\ipykernel_20492\\2109049505.py:2: SettingWithCopyWarning: \n",
      "A value is trying to be set on a copy of a slice from a DataFrame\n",
      "\n",
      "See the caveats in the documentation: https://pandas.pydata.org/pandas-docs/stable/user_guide/indexing.html#returning-a-view-versus-a-copy\n",
      "  train_data['Product Reviews Count'].fillna(0, inplace=True)\n",
      "C:\\Users\\hp\\AppData\\Local\\Temp\\ipykernel_20492\\2109049505.py:3: FutureWarning: A value is trying to be set on a copy of a DataFrame or Series through chained assignment using an inplace method.\n",
      "The behavior will change in pandas 3.0. This inplace method will never work because the intermediate object on which we are setting values always behaves as a copy.\n",
      "\n",
      "For example, when doing 'df[col].method(value, inplace=True)', try using 'df.method({col: value}, inplace=True)' or df[col] = df[col].method(value) instead, to perform the operation inplace on the original object.\n",
      "\n",
      "\n",
      "  train_data['Product Category'].fillna('', inplace=True)\n",
      "C:\\Users\\hp\\AppData\\Local\\Temp\\ipykernel_20492\\2109049505.py:3: SettingWithCopyWarning: \n",
      "A value is trying to be set on a copy of a slice from a DataFrame\n",
      "\n",
      "See the caveats in the documentation: https://pandas.pydata.org/pandas-docs/stable/user_guide/indexing.html#returning-a-view-versus-a-copy\n",
      "  train_data['Product Category'].fillna('', inplace=True)\n",
      "C:\\Users\\hp\\AppData\\Local\\Temp\\ipykernel_20492\\2109049505.py:4: FutureWarning: A value is trying to be set on a copy of a DataFrame or Series through chained assignment using an inplace method.\n",
      "The behavior will change in pandas 3.0. This inplace method will never work because the intermediate object on which we are setting values always behaves as a copy.\n",
      "\n",
      "For example, when doing 'df[col].method(value, inplace=True)', try using 'df.method({col: value}, inplace=True)' or df[col] = df[col].method(value) instead, to perform the operation inplace on the original object.\n",
      "\n",
      "\n",
      "  train_data['Product Brand'].fillna('', inplace=True)\n",
      "C:\\Users\\hp\\AppData\\Local\\Temp\\ipykernel_20492\\2109049505.py:4: SettingWithCopyWarning: \n",
      "A value is trying to be set on a copy of a slice from a DataFrame\n",
      "\n",
      "See the caveats in the documentation: https://pandas.pydata.org/pandas-docs/stable/user_guide/indexing.html#returning-a-view-versus-a-copy\n",
      "  train_data['Product Brand'].fillna('', inplace=True)\n",
      "C:\\Users\\hp\\AppData\\Local\\Temp\\ipykernel_20492\\2109049505.py:5: FutureWarning: A value is trying to be set on a copy of a DataFrame or Series through chained assignment using an inplace method.\n",
      "The behavior will change in pandas 3.0. This inplace method will never work because the intermediate object on which we are setting values always behaves as a copy.\n",
      "\n",
      "For example, when doing 'df[col].method(value, inplace=True)', try using 'df.method({col: value}, inplace=True)' or df[col] = df[col].method(value) instead, to perform the operation inplace on the original object.\n",
      "\n",
      "\n",
      "  train_data['Product Description'].fillna('', inplace=True)\n",
      "C:\\Users\\hp\\AppData\\Local\\Temp\\ipykernel_20492\\2109049505.py:5: SettingWithCopyWarning: \n",
      "A value is trying to be set on a copy of a slice from a DataFrame\n",
      "\n",
      "See the caveats in the documentation: https://pandas.pydata.org/pandas-docs/stable/user_guide/indexing.html#returning-a-view-versus-a-copy\n",
      "  train_data['Product Description'].fillna('', inplace=True)\n"
     ]
    }
   ],
   "source": [
    "train_data['Product Rating'].fillna(0, inplace=True)\n",
    "train_data['Product Reviews Count'].fillna(0, inplace=True)\n",
    "train_data['Product Category'].fillna('', inplace=True)\n",
    "train_data['Product Brand'].fillna('', inplace=True)\n",
    "train_data['Product Description'].fillna('', inplace=True)"
   ]
  },
  {
   "cell_type": "code",
   "execution_count": 85,
   "id": "205b4514",
   "metadata": {},
   "outputs": [
    {
     "data": {
      "text/plain": [
       "Uniq Id                  0\n",
       "Product Id               0\n",
       "Product Rating           0\n",
       "Product Reviews Count    0\n",
       "Product Category         0\n",
       "Product Brand            0\n",
       "Product Name             0\n",
       "Product Image Url        0\n",
       "Product Description      0\n",
       "Product Tags             0\n",
       "dtype: int64"
      ]
     },
     "execution_count": 85,
     "metadata": {},
     "output_type": "execute_result"
    }
   ],
   "source": [
    "train_data.isnull().sum()"
   ]
  },
  {
   "cell_type": "code",
   "execution_count": 86,
   "id": "7a503dec",
   "metadata": {},
   "outputs": [
    {
     "data": {
      "text/plain": [
       "(5000, 10)"
      ]
     },
     "execution_count": 86,
     "metadata": {},
     "output_type": "execute_result"
    }
   ],
   "source": [
    "train_data.shape"
   ]
  },
  {
   "cell_type": "code",
   "execution_count": 87,
   "id": "3d5883c9",
   "metadata": {},
   "outputs": [
    {
     "data": {
      "text/plain": [
       "0"
      ]
     },
     "execution_count": 87,
     "metadata": {},
     "output_type": "execute_result"
    }
   ],
   "source": [
    "train_data.duplicated().sum()"
   ]
  },
  {
   "cell_type": "code",
   "execution_count": 88,
   "id": "0fb4e52a",
   "metadata": {},
   "outputs": [
    {
     "data": {
      "text/plain": [
       "Index(['Uniq Id', 'Product Id', 'Product Rating', 'Product Reviews Count',\n",
       "       'Product Category', 'Product Brand', 'Product Name',\n",
       "       'Product Image Url', 'Product Description', 'Product Tags'],\n",
       "      dtype='object')"
      ]
     },
     "execution_count": 88,
     "metadata": {},
     "output_type": "execute_result"
    }
   ],
   "source": [
    "train_data.columns"
   ]
  },
  {
   "cell_type": "code",
   "execution_count": 89,
   "id": "71e2d98d",
   "metadata": {},
   "outputs": [
    {
     "name": "stderr",
     "output_type": "stream",
     "text": [
      "C:\\Users\\hp\\AppData\\Local\\Temp\\ipykernel_20492\\1699159434.py:17: SettingWithCopyWarning: \n",
      "A value is trying to be set on a copy of a slice from a DataFrame\n",
      "\n",
      "See the caveats in the documentation: https://pandas.pydata.org/pandas-docs/stable/user_guide/indexing.html#returning-a-view-versus-a-copy\n",
      "  train_data.rename(columns=column_name_mapping, inplace=True)\n"
     ]
    }
   ],
   "source": [
    "# make the columns shorter \n",
    "# Define the Mapping of current column names to shorter names \n",
    "\n",
    "column_name_mapping = {\n",
    "    'Uniq Id': 'ID',\n",
    "    'Product Id': 'ProdID',\n",
    "    'Product Rating': 'Rating',\n",
    "    'Product Reviews Count': 'ReviewsCount',\n",
    "    'Product Category': 'Category',\n",
    "    'Product Brand': 'Brand',\n",
    "    'Product Name': 'Name',\n",
    "    'Product Image Url': 'ImageUrl',\n",
    "    'Product Description': 'Description',\n",
    "    'Product Tags': 'Tags'\n",
    "}\n",
    "# Rename the columns using the mapping\n",
    "train_data.rename(columns=column_name_mapping, inplace=True)\n"
   ]
  },
  {
   "cell_type": "code",
   "execution_count": 90,
   "id": "dbb00b44",
   "metadata": {},
   "outputs": [
    {
     "name": "stderr",
     "output_type": "stream",
     "text": [
      "C:\\Users\\hp\\AppData\\Local\\Temp\\ipykernel_20492\\3467855397.py:1: SettingWithCopyWarning: \n",
      "A value is trying to be set on a copy of a slice from a DataFrame\n",
      "\n",
      "See the caveats in the documentation: https://pandas.pydata.org/pandas-docs/stable/user_guide/indexing.html#returning-a-view-versus-a-copy\n",
      "  train_data.rename(columns=column_name_mapping, inplace=True)\n"
     ]
    }
   ],
   "source": [
    "train_data.rename(columns=column_name_mapping, inplace=True)"
   ]
  },
  {
   "cell_type": "code",
   "execution_count": 91,
   "id": "600209bd",
   "metadata": {},
   "outputs": [
    {
     "data": {
      "text/html": [
       "<div>\n",
       "<style scoped>\n",
       "    .dataframe tbody tr th:only-of-type {\n",
       "        vertical-align: middle;\n",
       "    }\n",
       "\n",
       "    .dataframe tbody tr th {\n",
       "        vertical-align: top;\n",
       "    }\n",
       "\n",
       "    .dataframe thead th {\n",
       "        text-align: right;\n",
       "    }\n",
       "</style>\n",
       "<table border=\"1\" class=\"dataframe\">\n",
       "  <thead>\n",
       "    <tr style=\"text-align: right;\">\n",
       "      <th></th>\n",
       "      <th>ID</th>\n",
       "      <th>ProdID</th>\n",
       "      <th>Rating</th>\n",
       "      <th>ReviewsCount</th>\n",
       "      <th>Category</th>\n",
       "      <th>Brand</th>\n",
       "      <th>Name</th>\n",
       "      <th>ImageUrl</th>\n",
       "      <th>Description</th>\n",
       "      <th>Tags</th>\n",
       "    </tr>\n",
       "  </thead>\n",
       "  <tbody>\n",
       "    <tr>\n",
       "      <th>0</th>\n",
       "      <td>1705736792d82aa2f2d3caf1c07c53f4</td>\n",
       "      <td>2e17bf4acecdece67fc00f07ad62c910</td>\n",
       "      <td>0.0</td>\n",
       "      <td>0.0</td>\n",
       "      <td>Premium Beauty &gt; Premium Makeup &gt; Premium Nail...</td>\n",
       "      <td>OPI</td>\n",
       "      <td>OPI Infinite Shine, Nail Lacquer Nail Polish, ...</td>\n",
       "      <td>https://i5.walmartimages.com/asr/0e1f4c51-c1a4...</td>\n",
       "      <td></td>\n",
       "      <td>OPI Infinite Shine, Nail Lacquer Nail Polish, ...</td>\n",
       "    </tr>\n",
       "    <tr>\n",
       "      <th>1</th>\n",
       "      <td>95a9fe6f4810fcfc7ff244fd06784f11</td>\n",
       "      <td>076e5854a62dd283c253d6bae415af1f</td>\n",
       "      <td>0.0</td>\n",
       "      <td>0.0</td>\n",
       "      <td>Beauty &gt; Hair Care &gt; Hair Color &gt; Auburn Hair ...</td>\n",
       "      <td>Nice'n Easy</td>\n",
       "      <td>Nice n Easy Permanent Color, 111 Natural Mediu...</td>\n",
       "      <td>https://i5.walmartimages.com/asr/9c8e42e4-13a5...</td>\n",
       "      <td>Pack of 3 Pack of 3 for the UPC: 381519000201 ...</td>\n",
       "      <td>Nice 'n Easy Permanent Color, 111 Natural Medi...</td>\n",
       "    </tr>\n",
       "    <tr>\n",
       "      <th>2</th>\n",
       "      <td>8d4d0330178d3ed181b15a4102b287f2</td>\n",
       "      <td>8a4fe5d9c7a6ed26cc44d785a454b124</td>\n",
       "      <td>4.5</td>\n",
       "      <td>29221.0</td>\n",
       "      <td>Beauty &gt; Hair Care &gt; Hair Color &gt; Permanent Ha...</td>\n",
       "      <td>Clairol</td>\n",
       "      <td>Clairol Nice N Easy Permanent Color 7/106A Nat...</td>\n",
       "      <td>https://i5.walmartimages.com/asr/e3a601c2-6a2b...</td>\n",
       "      <td>This Clairol Nice N Easy Permanent Color gives...</td>\n",
       "      <td>Clairol Nice 'N Easy Permanent Color 7/106A Na...</td>\n",
       "    </tr>\n",
       "    <tr>\n",
       "      <th>3</th>\n",
       "      <td>fddc4df45b35efd886794b261f730c51</td>\n",
       "      <td>03b5fb878a33eadff8b033419eab9669</td>\n",
       "      <td>0.0</td>\n",
       "      <td>0.0</td>\n",
       "      <td>Beauty &gt; Makeup &gt; Lip</td>\n",
       "      <td>Kokie Cosmetics</td>\n",
       "      <td>Kokie Professional Matte Lipstick, Hot Berry, ...</td>\n",
       "      <td>https://i5.walmartimages.com/asr/25b4b467-bc61...</td>\n",
       "      <td>Calling all matte lip lovers! Indulge in our r...</td>\n",
       "      <td>Kokie Professional Matte Lipstick, Hot Berry, ...</td>\n",
       "    </tr>\n",
       "    <tr>\n",
       "      <th>4</th>\n",
       "      <td>0990cf89a59ca6a0460349a3e4f51d42</td>\n",
       "      <td>ce3d761e57d6ccad80619297b5b1bcbc</td>\n",
       "      <td>0.0</td>\n",
       "      <td>131.0</td>\n",
       "      <td>Seasonal &gt; Stock Up Essentials &gt; Personal Care...</td>\n",
       "      <td>Gillette</td>\n",
       "      <td>Gillette TRAC II Plus Razor Blade Refills, Fit...</td>\n",
       "      <td>https://i5.walmartimages.com/asr/1a2ebb06-cd01...</td>\n",
       "      <td>In 1971, Gillette introduced the Trac II razor...</td>\n",
       "      <td>Gillette TRAC II Plus Razor Blade Refills, Fit...</td>\n",
       "    </tr>\n",
       "  </tbody>\n",
       "</table>\n",
       "</div>"
      ],
      "text/plain": [
       "                                 ID  ...                                               Tags\n",
       "0  1705736792d82aa2f2d3caf1c07c53f4  ...  OPI Infinite Shine, Nail Lacquer Nail Polish, ...\n",
       "1  95a9fe6f4810fcfc7ff244fd06784f11  ...  Nice 'n Easy Permanent Color, 111 Natural Medi...\n",
       "2  8d4d0330178d3ed181b15a4102b287f2  ...  Clairol Nice 'N Easy Permanent Color 7/106A Na...\n",
       "3  fddc4df45b35efd886794b261f730c51  ...  Kokie Professional Matte Lipstick, Hot Berry, ...\n",
       "4  0990cf89a59ca6a0460349a3e4f51d42  ...  Gillette TRAC II Plus Razor Blade Refills, Fit...\n",
       "\n",
       "[5 rows x 10 columns]"
      ]
     },
     "execution_count": 91,
     "metadata": {},
     "output_type": "execute_result"
    }
   ],
   "source": [
    "train_data.head()"
   ]
  },
  {
   "cell_type": "code",
   "execution_count": 93,
   "id": "be7c809f",
   "metadata": {},
   "outputs": [
    {
     "name": "stderr",
     "output_type": "stream",
     "text": [
      "C:\\Users\\hp\\AppData\\Local\\Temp\\ipykernel_20492\\1465610789.py:2: SettingWithCopyWarning: \n",
      "A value is trying to be set on a copy of a slice from a DataFrame.\n",
      "Try using .loc[row_indexer,col_indexer] = value instead\n",
      "\n",
      "See the caveats in the documentation: https://pandas.pydata.org/pandas-docs/stable/user_guide/indexing.html#returning-a-view-versus-a-copy\n",
      "  train_data['ID'] = train_data['ID'].str.extract(r'(\\d+)').astype(float)\n",
      "C:\\Users\\hp\\AppData\\Local\\Temp\\ipykernel_20492\\1465610789.py:3: SettingWithCopyWarning: \n",
      "A value is trying to be set on a copy of a slice from a DataFrame.\n",
      "Try using .loc[row_indexer,col_indexer] = value instead\n",
      "\n",
      "See the caveats in the documentation: https://pandas.pydata.org/pandas-docs/stable/user_guide/indexing.html#returning-a-view-versus-a-copy\n",
      "  train_data['ProdID'] = train_data['ProdID'].str.extract(r'(\\d+)').astype(float)\n"
     ]
    }
   ],
   "source": [
    "train_data['ID'].str.extract(r'(\\d+)').astype(float)\n",
    "train_data['ID'] = train_data['ID'].str.extract(r'(\\d+)').astype(float)\n",
    "train_data['ProdID'] = train_data['ProdID'].str.extract(r'(\\d+)').astype(float)\n"
   ]
  },
  {
   "cell_type": "code",
   "execution_count": 94,
   "id": "393403ac",
   "metadata": {},
   "outputs": [
    {
     "data": {
      "text/html": [
       "<div>\n",
       "<style scoped>\n",
       "    .dataframe tbody tr th:only-of-type {\n",
       "        vertical-align: middle;\n",
       "    }\n",
       "\n",
       "    .dataframe tbody tr th {\n",
       "        vertical-align: top;\n",
       "    }\n",
       "\n",
       "    .dataframe thead th {\n",
       "        text-align: right;\n",
       "    }\n",
       "</style>\n",
       "<table border=\"1\" class=\"dataframe\">\n",
       "  <thead>\n",
       "    <tr style=\"text-align: right;\">\n",
       "      <th></th>\n",
       "      <th>ID</th>\n",
       "      <th>ProdID</th>\n",
       "      <th>Rating</th>\n",
       "      <th>ReviewsCount</th>\n",
       "      <th>Category</th>\n",
       "      <th>Brand</th>\n",
       "      <th>Name</th>\n",
       "      <th>ImageUrl</th>\n",
       "      <th>Description</th>\n",
       "      <th>Tags</th>\n",
       "    </tr>\n",
       "  </thead>\n",
       "  <tbody>\n",
       "    <tr>\n",
       "      <th>0</th>\n",
       "      <td>1.705737e+09</td>\n",
       "      <td>2.0</td>\n",
       "      <td>0.0</td>\n",
       "      <td>0.0</td>\n",
       "      <td>Premium Beauty &gt; Premium Makeup &gt; Premium Nail...</td>\n",
       "      <td>OPI</td>\n",
       "      <td>OPI Infinite Shine, Nail Lacquer Nail Polish, ...</td>\n",
       "      <td>https://i5.walmartimages.com/asr/0e1f4c51-c1a4...</td>\n",
       "      <td></td>\n",
       "      <td>OPI Infinite Shine, Nail Lacquer Nail Polish, ...</td>\n",
       "    </tr>\n",
       "    <tr>\n",
       "      <th>1</th>\n",
       "      <td>9.500000e+01</td>\n",
       "      <td>76.0</td>\n",
       "      <td>0.0</td>\n",
       "      <td>0.0</td>\n",
       "      <td>Beauty &gt; Hair Care &gt; Hair Color &gt; Auburn Hair ...</td>\n",
       "      <td>Nice'n Easy</td>\n",
       "      <td>Nice n Easy Permanent Color, 111 Natural Mediu...</td>\n",
       "      <td>https://i5.walmartimages.com/asr/9c8e42e4-13a5...</td>\n",
       "      <td>Pack of 3 Pack of 3 for the UPC: 381519000201 ...</td>\n",
       "      <td>Nice 'n Easy Permanent Color, 111 Natural Medi...</td>\n",
       "    </tr>\n",
       "    <tr>\n",
       "      <th>2</th>\n",
       "      <td>8.000000e+00</td>\n",
       "      <td>8.0</td>\n",
       "      <td>4.5</td>\n",
       "      <td>29221.0</td>\n",
       "      <td>Beauty &gt; Hair Care &gt; Hair Color &gt; Permanent Ha...</td>\n",
       "      <td>Clairol</td>\n",
       "      <td>Clairol Nice N Easy Permanent Color 7/106A Nat...</td>\n",
       "      <td>https://i5.walmartimages.com/asr/e3a601c2-6a2b...</td>\n",
       "      <td>This Clairol Nice N Easy Permanent Color gives...</td>\n",
       "      <td>Clairol Nice 'N Easy Permanent Color 7/106A Na...</td>\n",
       "    </tr>\n",
       "    <tr>\n",
       "      <th>3</th>\n",
       "      <td>4.000000e+00</td>\n",
       "      <td>3.0</td>\n",
       "      <td>0.0</td>\n",
       "      <td>0.0</td>\n",
       "      <td>Beauty &gt; Makeup &gt; Lip</td>\n",
       "      <td>Kokie Cosmetics</td>\n",
       "      <td>Kokie Professional Matte Lipstick, Hot Berry, ...</td>\n",
       "      <td>https://i5.walmartimages.com/asr/25b4b467-bc61...</td>\n",
       "      <td>Calling all matte lip lovers! Indulge in our r...</td>\n",
       "      <td>Kokie Professional Matte Lipstick, Hot Berry, ...</td>\n",
       "    </tr>\n",
       "    <tr>\n",
       "      <th>4</th>\n",
       "      <td>9.900000e+02</td>\n",
       "      <td>3.0</td>\n",
       "      <td>0.0</td>\n",
       "      <td>131.0</td>\n",
       "      <td>Seasonal &gt; Stock Up Essentials &gt; Personal Care...</td>\n",
       "      <td>Gillette</td>\n",
       "      <td>Gillette TRAC II Plus Razor Blade Refills, Fit...</td>\n",
       "      <td>https://i5.walmartimages.com/asr/1a2ebb06-cd01...</td>\n",
       "      <td>In 1971, Gillette introduced the Trac II razor...</td>\n",
       "      <td>Gillette TRAC II Plus Razor Blade Refills, Fit...</td>\n",
       "    </tr>\n",
       "  </tbody>\n",
       "</table>\n",
       "</div>"
      ],
      "text/plain": [
       "             ID  ...                                               Tags\n",
       "0  1.705737e+09  ...  OPI Infinite Shine, Nail Lacquer Nail Polish, ...\n",
       "1  9.500000e+01  ...  Nice 'n Easy Permanent Color, 111 Natural Medi...\n",
       "2  8.000000e+00  ...  Clairol Nice 'N Easy Permanent Color 7/106A Na...\n",
       "3  4.000000e+00  ...  Kokie Professional Matte Lipstick, Hot Berry, ...\n",
       "4  9.900000e+02  ...  Gillette TRAC II Plus Razor Blade Refills, Fit...\n",
       "\n",
       "[5 rows x 10 columns]"
      ]
     },
     "execution_count": 94,
     "metadata": {},
     "output_type": "execute_result"
    }
   ],
   "source": [
    "train_data.head()"
   ]
  },
  {
   "cell_type": "markdown",
   "id": "cb07c67c",
   "metadata": {},
   "source": [
    "## step2 : EDA (Exploratory Data Analysis)"
   ]
  },
  {
   "cell_type": "code",
   "execution_count": 96,
   "id": "b4c92b6b",
   "metadata": {},
   "outputs": [
    {
     "name": "stdout",
     "output_type": "stream",
     "text": [
      "Number of unique users: 1721\n",
      "Number of unique items: 1697\n",
      "Number of ratings: 36\n"
     ]
    }
   ],
   "source": [
    "# Basic statistics of the dataset\n",
    "\n",
    "num_users = train_data['ID'].nunique()\n",
    "num_products = train_data['ProdID'].nunique()\n",
    "num_ratings = train_data['Rating'].nunique()\n",
    "print(f\"Number of unique users: {num_users}\")\n",
    "print(f\"Number of unique items: {num_products}\")\n",
    "print(f\"Number of ratings: {num_ratings}\")\n",
    "\n"
   ]
  },
  {
   "cell_type": "code",
   "execution_count": 101,
   "id": "972df74c",
   "metadata": {},
   "outputs": [
    {
     "data": {
      "image/png": "[encoded data removed]",
      "text/plain": [
       "<Figure size 640x480 with 2 Axes>"
      ]
     },
     "metadata": {},
     "output_type": "display_data"
    }
   ],
   "source": [
    "# pivot table creation\n",
    "heatmap_data = train_data.pivot_table('ID' , 'Rating')\n",
    "\n",
    "\n",
    "## crate the heatmap \n",
    "plt.Figure(figsize=(10, 8))\n",
    "sns.heatmap(heatmap_data , annot= True , fmt= 'g', cmap='coolwarm',cbar=True)\n",
    "plt.title('Heatmap of Ratings by User and Product')\n",
    "plt.xlabel('Raiting')\n",
    "plt.ylabel('user ID')\n",
    "plt.show()"
   ]
  },
  {
   "cell_type": "code",
   "execution_count": 102,
   "id": "b3b9a91e",
   "metadata": {},
   "outputs": [
    {
     "data": {
      "image/png": "[encoded data removed]",
      "text/plain": [
       "<Figure size 1200x500 with 2 Axes>"
      ]
     },
     "metadata": {},
     "output_type": "display_data"
    }
   ],
   "source": [
    "# Distribution of interactions\n",
    "plt.figure(figsize=(12, 5))\n",
    "plt.subplot(1, 2, 1)\n",
    "train_data['ID'].value_counts().hist(bins=10, edgecolor='k')\n",
    "plt.xlabel('Interactions per User')\n",
    "plt.ylabel('Number of Users')\n",
    "plt.title('Distribution of Interactions per User')\n",
    "\n",
    "plt.subplot(1, 2, 2)\n",
    "train_data['ProdID'].value_counts().hist(bins=10, edgecolor='k',color='green')\n",
    "plt.xlabel('Interactions per Item')\n",
    "plt.ylabel('Number of Items')\n",
    "plt.title('Distribution of Interactions per Item')\n",
    "\n",
    "plt.tight_layout()\n",
    "plt.show()"
   ]
  },
  {
   "cell_type": "code",
   "execution_count": 103,
   "id": "248d5bb3",
   "metadata": {},
   "outputs": [
    {
     "data": {
      "image/png": "[encoded data removed]",
      "text/plain": [
       "<Figure size 640x480 with 1 Axes>"
      ]
     },
     "metadata": {},
     "output_type": "display_data"
    }
   ],
   "source": [
    "# Most popular items \n",
    "\n",
    "popular_items = train_data['ProdID'].value_counts().head(5)\n",
    "popular_items.plot(kind='bar', color='orange')\n",
    "plt.title('Most Popular Items')\n",
    "plt.show()"
   ]
  },
  {
   "cell_type": "code",
   "execution_count": 104,
   "id": "87041898",
   "metadata": {},
   "outputs": [
    {
     "data": {
      "text/plain": [
       "Text(0.5, 1.0, 'Distribution of Ratings')"
      ]
     },
     "execution_count": 104,
     "metadata": {},
     "output_type": "execute_result"
    },
    {
     "data": {
      "image/png": "[encoded data removed]",
      "text/plain": [
       "<Figure size 640x480 with 1 Axes>"
      ]
     },
     "metadata": {},
     "output_type": "display_data"
    }
   ],
   "source": [
    "# most rating counts \n",
    "train_data['Rating'].value_counts().plot(kind='bar', color='purple')\n",
    "plt.title('Distribution of Ratings')"
   ]
  },
  {
   "cell_type": "markdown",
   "id": "78003c72",
   "metadata": {},
   "source": [
    "## Step3: Data Cleaning and Tags Creations .\n"
   ]
  },
  {
   "cell_type": "code",
   "execution_count": 110,
   "id": "f5c48b23",
   "metadata": {},
   "outputs": [
    {
     "ename": "OSError",
     "evalue": "[E050] Can't find model 'en_core_web_sm'. It doesn't seem to be a Python package or a valid path to a data directory.",
     "output_type": "error",
     "traceback": [
      "\u001b[1;31m---------------------------------------------------------------------------\u001b[0m",
      "\u001b[1;31mOSError\u001b[0m                                   Traceback (most recent call last)",
      "Cell \u001b[1;32mIn[110], line 3\u001b[0m\n\u001b[0;32m      1\u001b[0m \u001b[38;5;28;01mimport\u001b[39;00m \u001b[38;5;21;01mspacy\u001b[39;00m\n\u001b[0;32m      2\u001b[0m \u001b[38;5;28;01mfrom\u001b[39;00m \u001b[38;5;21;01mspacy\u001b[39;00m\u001b[38;5;21;01m.\u001b[39;00m\u001b[38;5;21;01mlang\u001b[39;00m\u001b[38;5;21;01m.\u001b[39;00m\u001b[38;5;21;01men\u001b[39;00m\u001b[38;5;21;01m.\u001b[39;00m\u001b[38;5;21;01mstop_words\u001b[39;00m \u001b[38;5;28;01mimport\u001b[39;00m STOP_WORDS\n\u001b[1;32m----> 3\u001b[0m nlp \u001b[38;5;241m=\u001b[39m spacy\u001b[38;5;241m.\u001b[39mload(\u001b[38;5;124m\"\u001b[39m\u001b[38;5;124men_core_web_sm\u001b[39m\u001b[38;5;124m\"\u001b[39m)\n",
      "File \u001b[1;32md:\\anaconda\\Lib\\site-packages\\spacy\\__init__.py:52\u001b[0m, in \u001b[0;36mload\u001b[1;34m(name, vocab, disable, enable, exclude, config)\u001b[0m\n\u001b[0;32m     28\u001b[0m \u001b[38;5;28;01mdef\u001b[39;00m \u001b[38;5;21mload\u001b[39m(\n\u001b[0;32m     29\u001b[0m     name: Union[\u001b[38;5;28mstr\u001b[39m, Path],\n\u001b[0;32m     30\u001b[0m     \u001b[38;5;241m*\u001b[39m,\n\u001b[1;32m   (...)\u001b[0m\n\u001b[0;32m     35\u001b[0m     config: Union[Dict[\u001b[38;5;28mstr\u001b[39m, Any], Config] \u001b[38;5;241m=\u001b[39m util\u001b[38;5;241m.\u001b[39mSimpleFrozenDict(),\n\u001b[0;32m     36\u001b[0m ) \u001b[38;5;241m-\u001b[39m\u001b[38;5;241m>\u001b[39m Language:\n\u001b[0;32m     37\u001b[0m \u001b[38;5;250m    \u001b[39m\u001b[38;5;124;03m\"\"\"Load a spaCy model from an installed package or a local path.\u001b[39;00m\n\u001b[0;32m     38\u001b[0m \n\u001b[0;32m     39\u001b[0m \u001b[38;5;124;03m    name (str): Package name or model path.\u001b[39;00m\n\u001b[1;32m   (...)\u001b[0m\n\u001b[0;32m     50\u001b[0m \u001b[38;5;124;03m    RETURNS (Language): The loaded nlp object.\u001b[39;00m\n\u001b[0;32m     51\u001b[0m \u001b[38;5;124;03m    \"\"\"\u001b[39;00m\n\u001b[1;32m---> 52\u001b[0m     \u001b[38;5;28;01mreturn\u001b[39;00m util\u001b[38;5;241m.\u001b[39mload_model(\n\u001b[0;32m     53\u001b[0m         name,\n\u001b[0;32m     54\u001b[0m         vocab\u001b[38;5;241m=\u001b[39mvocab,\n\u001b[0;32m     55\u001b[0m         disable\u001b[38;5;241m=\u001b[39mdisable,\n\u001b[0;32m     56\u001b[0m         enable\u001b[38;5;241m=\u001b[39menable,\n\u001b[0;32m     57\u001b[0m         exclude\u001b[38;5;241m=\u001b[39mexclude,\n\u001b[0;32m     58\u001b[0m         config\u001b[38;5;241m=\u001b[39mconfig,\n\u001b[0;32m     59\u001b[0m     )\n",
      "File \u001b[1;32md:\\anaconda\\Lib\\site-packages\\spacy\\util.py:484\u001b[0m, in \u001b[0;36mload_model\u001b[1;34m(name, vocab, disable, enable, exclude, config)\u001b[0m\n\u001b[0;32m    482\u001b[0m \u001b[38;5;28;01mif\u001b[39;00m name \u001b[38;5;129;01min\u001b[39;00m OLD_MODEL_SHORTCUTS:\n\u001b[0;32m    483\u001b[0m     \u001b[38;5;28;01mraise\u001b[39;00m \u001b[38;5;167;01mIOError\u001b[39;00m(Errors\u001b[38;5;241m.\u001b[39mE941\u001b[38;5;241m.\u001b[39mformat(name\u001b[38;5;241m=\u001b[39mname, full\u001b[38;5;241m=\u001b[39mOLD_MODEL_SHORTCUTS[name]))  \u001b[38;5;66;03m# type: ignore[index]\u001b[39;00m\n\u001b[1;32m--> 484\u001b[0m \u001b[38;5;28;01mraise\u001b[39;00m \u001b[38;5;167;01mIOError\u001b[39;00m(Errors\u001b[38;5;241m.\u001b[39mE050\u001b[38;5;241m.\u001b[39mformat(name\u001b[38;5;241m=\u001b[39mname))\n",
      "\u001b[1;31mOSError\u001b[0m: [E050] Can't find model 'en_core_web_sm'. It doesn't seem to be a Python package or a valid path to a data directory."
     ]
    }
   ],
   "source": [
    "import spacy\n",
    "from spacy.lang.en.stop_words import STOP_WORDS\n",
    "nlp = spacy.load(\"en_core_web_sm\")"
   ]
  }
 ],
 "metadata": {
  "kernelspec": {
   "display_name": "base",
   "language": "python",
   "name": "python3"
  },
  "language_info": {
   "codemirror_mode": {
    "name": "ipython",
    "version": 3
   },
   "file_extension": ".py",
   "mimetype": "text/x-python",
   "name": "python",
   "nbconvert_exporter": "python",
   "pygments_lexer": "ipython3",
   "version": "3.12.7"
  }
 },
 "nbformat": 4,
 "nbformat_minor": 5
}
